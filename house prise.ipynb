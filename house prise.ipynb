{
 "cells": [
  {
   "cell_type": "code",
   "execution_count": 179,
   "metadata": {},
   "outputs": [
    {
     "data": {
      "text/plain": [
       "2"
      ]
     },
     "execution_count": 179,
     "metadata": {},
     "output_type": "execute_result"
    }
   ],
   "source": [
    "1+1"
   ]
  },
  {
   "cell_type": "code",
   "execution_count": 180,
   "metadata": {
    "collapsed": true
   },
   "outputs": [],
   "source": [
    "import numpy as np\n",
    "import pandas as pd\n",
    "import copy\n",
    "import matplotlib.pyplot as plt"
   ]
  },
  {
   "cell_type": "markdown",
   "metadata": {},
   "source": [
    " ### read and modify the data"
   ]
  },
  {
   "cell_type": "code",
   "execution_count": 197,
   "metadata": {
    "collapsed": true
   },
   "outputs": [],
   "source": [
    "dataset=pd.read_table(\"C:/Users/Gerald/Downloads/housing_prices.txt\")"
   ]
  },
  {
   "cell_type": "code",
   "execution_count": 198,
   "metadata": {
    "collapsed": true
   },
   "outputs": [],
   "source": [
    "city=copy.deepcopy(dataset['City'])\n",
    "city=city.drop_duplicates()\n",
    "for i in city:\n",
    "    dataset[str('city='+i+'?')]=(dataset['City']==i)*1\n",
    "# Normalize each column\n",
    "dataset['sqft_std']=(dataset['sqft']-dataset['sqft'].min()+0.0)/(dataset['sqft'].max()-dataset['sqft'].min())\n",
    "dataset['price_std']=(dataset['price']-dataset['price'].min()+0.0)/(dataset['price'].max()-dataset['price'].min())\n",
    "dataset['bedrooms_std']=(dataset['bedrooms']-dataset['bedrooms'].min()+0.0)/(dataset['bedrooms'].max()-dataset['bedrooms'].min())\n",
    "dataset['bath_std']=(dataset['baths']-dataset['baths'].min()+0.0)/(dataset['baths'].max()-dataset['baths'].min())\n",
    "dataset['bias']=1\n",
    "dataset['rand']=np.random.uniform(0,1,len(dataset))"
   ]
  },
  {
   "cell_type": "code",
   "execution_count": 199,
   "metadata": {},
   "outputs": [
    {
     "name": "stderr",
     "output_type": "stream",
     "text": [
      "C:\\ProgramData\\Anaconda3\\lib\\site-packages\\ipykernel_launcher.py:1: FutureWarning: by argument to sort_index is deprecated, pls use .sort_values(by=...)\n",
      "  \"\"\"Entry point for launching an IPython kernel.\n"
     ]
    }
   ],
   "source": [
    "dataset=dataset.sort_index(by='rand')\n",
    "dataset=dataset.drop(['rand'],axis=1)"
   ]
  },
  {
   "cell_type": "code",
   "execution_count": 200,
   "metadata": {
    "collapsed": true
   },
   "outputs": [],
   "source": [
    "X=copy.deepcopy(dataset)\n",
    "for i in ['sqft','price','City','bedrooms','baths','price_std']:\n",
    "    X=X.drop([i],axis=1)"
   ]
  },
  {
   "cell_type": "code",
   "execution_count": 201,
   "metadata": {
    "collapsed": true
   },
   "outputs": [],
   "source": [
    "Y=dataset['price_std']"
   ]
  },
  {
   "cell_type": "markdown",
   "metadata": {},
   "source": [
    "### Split the trainset and the testset"
   ]
  },
  {
   "cell_type": "code",
   "execution_count": 202,
   "metadata": {},
   "outputs": [],
   "source": [
    "X_train=X[0:round(0.7*len(X))]\n",
    "X_test=X[round(0.7*len(X)):len(X)]\n",
    "Y_train=Y[0:round(0.7*len(X))]\n",
    "Y_test=Y[round(0.7*len(X)):len(X)]"
   ]
  },
  {
   "cell_type": "markdown",
   "metadata": {},
   "source": [
    "### Train the model"
   ]
  },
  {
   "cell_type": "code",
   "execution_count": 203,
   "metadata": {
    "collapsed": true
   },
   "outputs": [],
   "source": [
    "def cost_function(weight):\n",
    "    A=Y_train-np.dot(weight, X_train.T )\n",
    "    cost=1/(2*len(X_train))*sum([i*i for i in A])\n",
    "    return cost"
   ]
  },
  {
   "cell_type": "code",
   "execution_count": 204,
   "metadata": {
    "collapsed": true
   },
   "outputs": [],
   "source": [
    "def gradient(weight):\n",
    "    A=Y_train-np.dot(weight, X_train.T)\n",
    "    grad=np.dot(A.T, X_train)/len(X_train)\n",
    "    return -grad"
   ]
  },
  {
   "cell_type": "code",
   "execution_count": 205,
   "metadata": {},
   "outputs": [
    {
     "name": "stdout",
     "output_type": "stream",
     "text": [
      "[  0.00000000e+00   0.00000000e+00   5.33160043e-05   0.00000000e+00\n",
      "   0.00000000e+00   3.12101513e-05   2.60233214e-05   5.33693588e-05\n",
      "   5.20243499e-05   0.00000000e+00   1.72413793e-04   5.18831611e-05\n",
      "   0.00000000e+00   8.93204807e-06   9.06729206e-05   0.00000000e+00\n",
      "   8.16071147e-05   0.00000000e+00   8.17555859e-05   7.12037310e-05\n",
      "   1.05386278e-04   3.56836063e-05   1.23384132e-04   6.09415360e-05\n",
      "   8.29744166e-05   9.47005163e-05   1.92492324e-04   1.35110231e-04\n",
      "   1.49972208e-04   6.68788957e-06   1.20099635e-04   5.35031166e-05\n",
      "   3.99935796e-05   4.29659750e-05   1.00927685e-04   3.56836063e-05\n",
      "   3.89532412e-05   1.78343722e-05   2.16002336e-04   1.38825725e-04\n",
      "   1.84266220e-04   3.85073819e-05   4.59383704e-05   1.08522155e-04\n",
      "   7.43098841e-06   3.77999518e-04   2.06730098e-05   9.05243008e-05\n",
      "   1.58765102e-03   1.82991558e-03   1.20496316e-03   3.44039589e-03]\n"
     ]
    }
   ],
   "source": [
    "r=0.01\n",
    "theta=np.zeros(52)\n",
    "grad=gradient(theta)\n",
    "cost1=1\n",
    "cost2=0\n",
    "while cost1>cost2 and np.max(gradient(theta))>0.00001:\n",
    "    cost1=cost_function(theta)\n",
    "    theta=theta-r*gradient(theta)\n",
    "    cost2=cost_function(theta)\n",
    "theta=theta-r*gradient(theta)\n",
    "print(theta)"
   ]
  },
  {
   "cell_type": "markdown",
   "metadata": {},
   "source": [
    "### test"
   ]
  },
  {
   "cell_type": "code",
   "execution_count": 206,
   "metadata": {},
   "outputs": [
    {
     "name": "stdout",
     "output_type": "stream",
     "text": [
      "0.175762755871\n"
     ]
    }
   ],
   "source": [
    "residual=Y_train-np.dot(theta, X_train.T)\n",
    "MSE=sum([i*i for i in residual])/len(residual)\n",
    "print(MSE)"
   ]
  },
  {
   "cell_type": "markdown",
   "metadata": {},
   "source": [
    "## perception model"
   ]
  },
  {
   "cell_type": "code",
   "execution_count": 214,
   "metadata": {
    "collapsed": true
   },
   "outputs": [],
   "source": [
    "#set $500,000 as a threhold\n",
    "c=(500000-dataset['price'].min())/(dataset['price'].max()-dataset['price'].min())\n",
    "IsExp_test=(Y_test>c)*1\n",
    "IsExp_train=(Y_train>c)*1"
   ]
  },
  {
   "cell_type": "code",
   "execution_count": 215,
   "metadata": {
    "collapsed": true
   },
   "outputs": [],
   "source": [
    "weight=np.zeros(52)"
   ]
  },
  {
   "cell_type": "code",
   "execution_count": 216,
   "metadata": {
    "collapsed": true
   },
   "outputs": [],
   "source": [
    "def predict(weight,Xi,y):\n",
    "    M=np.dot(weight,Xi)\n",
    "    if M>0:\n",
    "        N=1\n",
    "    else:\n",
    "        N=0\n",
    "    if N==y:\n",
    "        return 1\n",
    "    else:\n",
    "        return 0"
   ]
  },
  {
   "cell_type": "code",
   "execution_count": 217,
   "metadata": {},
   "outputs": [
    {
     "name": "stdout",
     "output_type": "stream",
     "text": [
      "0\n"
     ]
    }
   ],
   "source": [
    "r=0.1\n",
    "for loop in range(1000):\n",
    "    wrong=0\n",
    "    for i in X_train.index:\n",
    "        if predict(weight,X_train.loc[i],IsExp_train[i])==1:\n",
    "            pass\n",
    "        else:\n",
    "            weight=weight+r*(2*IsExp_train[i]-1)*X_train.loc[i]\n",
    "            wrong=wrong+1\n",
    "    if wrong==0:\n",
    "        break\n",
    "    else:\n",
    "        pass\n",
    "print(wrong)"
   ]
  },
  {
   "cell_type": "code",
   "execution_count": 218,
   "metadata": {},
   "outputs": [
    {
     "name": "stdout",
     "output_type": "stream",
     "text": [
      "0.4\n"
     ]
    }
   ],
   "source": [
    "IsExp_predict=copy.deepcopy(IsExp_test)\n",
    "for i in IsExp_predict.index:\n",
    "    IsExp_predict.loc[i]=(np.dot(theta,X_test.loc[i])>0)*1\n",
    "correctRate=sum(IsExp_predict==IsExp_test)/len(IsExp_test)\n",
    "print(correctRate)"
   ]
  },
  {
   "cell_type": "code",
   "execution_count": 219,
   "metadata": {},
   "outputs": [
    {
     "data": {
      "text/plain": [
       "26"
      ]
     },
     "execution_count": 219,
     "metadata": {},
     "output_type": "execute_result"
    }
   ],
   "source": [
    "loop"
   ]
  },
  {
   "cell_type": "code",
   "execution_count": 220,
   "metadata": {},
   "outputs": [
    {
     "name": "stdout",
     "output_type": "stream",
     "text": [
      "0.185074974359\n"
     ]
    }
   ],
   "source": [
    "residual=Y_train-np.dot(weight, X_train.T)\n",
    "MSE=sum([i*i for i in residual])/len(residual)\n",
    "print(MSE)"
   ]
  },
  {
   "cell_type": "code",
   "execution_count": null,
   "metadata": {
    "collapsed": true
   },
   "outputs": [],
   "source": []
  }
 ],
 "metadata": {
  "kernelspec": {
   "display_name": "Python 3",
   "language": "python",
   "name": "python3"
  },
  "language_info": {
   "codemirror_mode": {
    "name": "ipython",
    "version": 3
   },
   "file_extension": ".py",
   "mimetype": "text/x-python",
   "name": "python",
   "nbconvert_exporter": "python",
   "pygments_lexer": "ipython3",
   "version": "3.6.2"
  }
 },
 "nbformat": 4,
 "nbformat_minor": 2
}
