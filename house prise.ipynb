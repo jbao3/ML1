{
 "cells": [
  {
   "cell_type": "code",
   "execution_count": 84,
   "metadata": {
    "collapsed": true
   },
   "outputs": [],
   "source": [
    "import numpy as np\n",
    "from sklearn.model_selection import train_test_split\n",
    "import pandas as pd\n",
    "import copy\n",
    "import matplotlib.pyplot as plt"
   ]
  },
  {
   "cell_type": "markdown",
   "metadata": {},
   "source": [
    " ### read and modify the data"
   ]
  },
  {
   "cell_type": "code",
   "execution_count": 85,
   "metadata": {},
   "outputs": [],
   "source": [
    "dataset=pd.read_table(\"C:/Users/Gerald/Downloads/housing_prices.txt\")\n"
   ]
  },
  {
   "cell_type": "code",
   "execution_count": 86,
   "metadata": {
    "collapsed": true
   },
   "outputs": [],
   "source": [
    "city=copy.deepcopy(dataset['City'])\n",
    "city=city.drop_duplicates()\n",
    "for i in city:\n",
    "    dataset[str('city='+i+'?')]=(dataset['City']==i)*1\n",
    "# Normalize each column\n",
    "dataset['sqft_std']=(dataset['sqft']-dataset['sqft'].mean()+0.0)/dataset['sqft'].std()\n",
    "dataset['price_std']=(dataset['price']-dataset['price'].mean()+0.0)/dataset['price'].std()\n",
    "dataset['bedrooms_std']=(dataset['bedrooms']-dataset['bedrooms'].mean()+0.0)/dataset['bedrooms'].std()\n",
    "dataset['bath_std']=(dataset['baths']-dataset['baths'].mean()+0.0)/dataset['baths'].std()\n",
    "dataset['bias']=1"
   ]
  },
  {
   "cell_type": "code",
   "execution_count": 104,
   "metadata": {
    "collapsed": true
   },
   "outputs": [],
   "source": [
    "X=copy.deepcopy(dataset)\n",
    "for i in ['sqft','price','City','bedrooms','baths','price_std']:\n",
    "    X=X.drop([i],axis=1)"
   ]
  },
  {
   "cell_type": "markdown",
   "metadata": {},
   "source": [
    "### Split the trainset and the testset"
   ]
  },
  {
   "cell_type": "code",
   "execution_count": 105,
   "metadata": {},
   "outputs": [],
   "source": [
    "X_train, X_test, Y_train, Y_test = train_test_split(X, Y, test_size=0.3)"
   ]
  },
  {
   "cell_type": "markdown",
   "metadata": {},
   "source": [
    "### Train the model"
   ]
  },
  {
   "cell_type": "code",
   "execution_count": 106,
   "metadata": {
    "collapsed": true
   },
   "outputs": [],
   "source": [
    "def cost_function(weight):\n",
    "    A=Y_train-np.dot(weight, X_train.T )\n",
    "    cost=1/(2*len(X_train))*sum([i*i for i in A])\n",
    "    return cost"
   ]
  },
  {
   "cell_type": "code",
   "execution_count": 107,
   "metadata": {
    "collapsed": true
   },
   "outputs": [],
   "source": [
    "def gradient(weight):\n",
    "    A=Y_train-np.dot(weight, X_train.T)\n",
    "    grad=np.dot(A.T, X_train)/len(X_train)\n",
    "    return -grad"
   ]
  },
  {
   "cell_type": "code",
   "execution_count": 109,
   "metadata": {},
   "outputs": [
    {
     "name": "stdout",
     "output_type": "stream",
     "text": [
      "[-1.61554594 -0.33775383 -1.13030701 -0.3164122  -0.2676181   0.01222905\n",
      "  0.         -0.51907089  0.          0.88454386  2.08428485  0.12913548\n",
      "  0.58091655  0.         -0.36818749  0.40329437 -0.51090208 -1.05666029\n",
      " -0.74303037  1.1611613   2.1500085   0.          0.10891323  0.2777934\n",
      " -0.29820557 -0.4898905   1.08306492  1.69737926  1.15844969 -0.29103031\n",
      "  1.41784951 -0.51309696 -0.2072714   0.56390604  0.69249027 -0.42341858\n",
      "  0.6811468  -0.54300352 -0.31962107 -1.18978866  0.23203534  0.1838062\n",
      "  0.10560482 -0.85983779 -2.09271698  0.46994237 -1.45079471 -0.47301783\n",
      "  0.80117643  0.36729809 -0.28944679  0.06077376]\n"
     ]
    }
   ],
   "source": [
    "r=0.01\n",
    "weight=np.zeros(52)\n",
    "grad=gradient(weight)\n",
    "cost1=1\n",
    "cost2=0\n",
    "while cost1>cost2 and np.max(gradient(weight))>0.00001:\n",
    "    cost1=cost_function(weight)\n",
    "    weight=weight-r*gradient(weight)\n",
    "    cost2=cost_function(weight)\n",
    "weight=weight-r*gradient(weight)\n",
    "print(weight)"
   ]
  },
  {
   "cell_type": "code",
   "execution_count": 110,
   "metadata": {},
   "outputs": [
    {
     "name": "stdout",
     "output_type": "stream",
     "text": [
      "0.0505230510166\n"
     ]
    }
   ],
   "source": [
    "residual=Y_train-np.dot(weight, X_train.T)\n",
    "MSE=sum([i*i for i in residual])/len(residual)\n",
    "print(MSE)"
   ]
  },
  {
   "cell_type": "markdown",
   "metadata": {},
   "source": [
    "### test"
   ]
  },
  {
   "cell_type": "code",
   "execution_count": 111,
   "metadata": {},
   "outputs": [
    {
     "name": "stdout",
     "output_type": "stream",
     "text": [
      "0.476669250798\n"
     ]
    }
   ],
   "source": [
    "residual=Y_test-np.dot(weight, X_test.T)\n",
    "MSE=sum([i*i for i in residual])/len(residual)\n",
    "print(MSE)"
   ]
  },
  {
   "cell_type": "code",
   "execution_count": 112,
   "metadata": {},
   "outputs": [],
   "source": [
    "#set $500,000 as a threhold\n",
    "c=(500000-dataset['price'].mean())/dataset['price'].std()\n",
    "IsExp=(Y_test>c)*1"
   ]
  },
  {
   "cell_type": "code",
   "execution_count": 113,
   "metadata": {},
   "outputs": [],
   "source": [
    "Is_Exp_predict=(np.dot(weight, X_test.T)>c)"
   ]
  },
  {
   "cell_type": "code",
   "execution_count": 114,
   "metadata": {},
   "outputs": [
    {
     "name": "stdout",
     "output_type": "stream",
     "text": [
      "0.96\n"
     ]
    }
   ],
   "source": [
    "correctRate=sum(Is_Exp_predict==IsExp)/len(IsExp)\n",
    "print(correctRate)"
   ]
  },
  {
   "cell_type": "code",
   "execution_count": null,
   "metadata": {
    "collapsed": true
   },
   "outputs": [],
   "source": []
  }
 ],
 "metadata": {
  "kernelspec": {
   "display_name": "Python 3",
   "language": "python",
   "name": "python3"
  },
  "language_info": {
   "codemirror_mode": {
    "name": "ipython",
    "version": 3
   },
   "file_extension": ".py",
   "mimetype": "text/x-python",
   "name": "python",
   "nbconvert_exporter": "python",
   "pygments_lexer": "ipython3",
   "version": "3.6.2"
  }
 },
 "nbformat": 4,
 "nbformat_minor": 2
}
