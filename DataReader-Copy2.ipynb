{
 "cells": [
  {
   "cell_type": "markdown",
   "metadata": {},
   "source": [
    "What I want initially is to use the whole 3000 stocks.\n",
    "However due to the capacity of my laptop, now, I can only use one of them to form a baby-version model."
   ]
  },
  {
   "cell_type": "code",
   "execution_count": 74,
   "metadata": {
    "collapsed": true
   },
   "outputs": [],
   "source": [
    "import numpy as np\n",
    "import pandas as pd\n",
    "import os\n",
    "import copy"
   ]
  },
  {
   "cell_type": "markdown",
   "metadata": {},
   "source": [
    "I use the most resent 10 years' data to build my model.\n",
    "And split the train and test set by proportion of 7:3, which means data from 2006-09-01 to 2013-09-02 is the training set, while data from 2013-09-02 to 2016-09-01 is the test set."
   ]
  },
  {
   "cell_type": "code",
   "execution_count": 75,
   "metadata": {},
   "outputs": [],
   "source": [
    "database={}\n",
    "trainset={}\n",
    "testset={}\n",
    "#for i in range(4000):\n",
    "    \n",
    "    #import my data\n",
    "    \n",
    "#    name=str('060')+str(i).zfill(4)\n",
    "#    if os.path.isfile('e:/data/'+str(name)+'.csv'):\n",
    "name='0600000'\n",
    "data=pd.read_csv('e:/data/'+str(name)+'.csv',encoding='gb2312')\n",
    "data.columns=['date','code','name','clsPrc','highPrc','lowPrc','openPrc','clsPrc_lastday','diff',\n",
    "              'return', 'turnover_rate','volumn','turnover_value','total_market_value','current_market_value','hh']\n",
    "data=data.drop(['hh'],axis=1)\n",
    "\n",
    "#select the data\n",
    "\n",
    "if sum(data['date']=='2006-09-01')==1 and sum(data['date']=='2013-09-02')==1:\n",
    "\n",
    "    #add some features\n",
    "\n",
    "    for lag in [1,5]:     ## [1,2,3,4,5,6,7,8,9,10] will be better\n",
    "        for col_name in ['clsPrc','highPrc','lowPrc','openPrc','clsPrc_lastday','diff',\n",
    "              'return', 'turnover_rate','volumn','turnover_value','total_market_value','current_market_value']:\n",
    "            data[str(col_name)+'lag'+str(lag)]=data[str(col_name)].shift(-lag)\n",
    "\n",
    "\n",
    "    #split the training set and the test set\n",
    "\n",
    "    cutoff1=(data[data['date']=='2006-09-01'].index)\n",
    "    cutoff2=(data[data['date']=='2013-09-02'].index)\n",
    "    data=data[data.index<cutoff1[0]]\n",
    "    train=data[data.index>cutoff2[0]]\n",
    "    test =data[data.index<cutoff2[0]]\n",
    "    database.update({str(name):data})\n",
    "    trainset.update({'train_'+str(name):train})\n",
    "    testset.update({'test_'+str(name):test})"
   ]
  },
  {
   "cell_type": "code",
   "execution_count": 83,
   "metadata": {},
   "outputs": [
    {
     "name": "stderr",
     "output_type": "stream",
     "text": [
      "C:\\ProgramData\\Anaconda3\\lib\\site-packages\\ipykernel_launcher.py:9: SettingWithCopyWarning: \n",
      "A value is trying to be set on a copy of a slice from a DataFrame.\n",
      "Try using .loc[row_indexer,col_indexer] = value instead\n",
      "\n",
      "See the caveats in the documentation: http://pandas.pydata.org/pandas-docs/stable/indexing.html#indexing-view-versus-copy\n",
      "  if __name__ == '__main__':\n",
      "C:\\ProgramData\\Anaconda3\\lib\\site-packages\\ipykernel_launcher.py:11: SettingWithCopyWarning: \n",
      "A value is trying to be set on a copy of a slice from a DataFrame\n",
      "\n",
      "See the caveats in the documentation: http://pandas.pydata.org/pandas-docs/stable/indexing.html#indexing-view-versus-copy\n",
      "  # This is added back by InteractiveShellApp.init_path()\n",
      "C:\\ProgramData\\Anaconda3\\lib\\site-packages\\pandas\\core\\generic.py:5233: SettingWithCopyWarning: \n",
      "A value is trying to be set on a copy of a slice from a DataFrame\n",
      "\n",
      "See the caveats in the documentation: http://pandas.pydata.org/pandas-docs/stable/indexing.html#indexing-view-versus-copy\n",
      "  self._update_inplace(new_data)\n",
      "C:\\ProgramData\\Anaconda3\\lib\\site-packages\\IPython\\core\\interactiveshell.py:2862: SettingWithCopyWarning: \n",
      "A value is trying to be set on a copy of a slice from a DataFrame\n",
      "\n",
      "See the caveats in the documentation: http://pandas.pydata.org/pandas-docs/stable/indexing.html#indexing-view-versus-copy\n",
      "  exec(code_obj, self.user_global_ns, self.user_ns)\n",
      "C:\\ProgramData\\Anaconda3\\lib\\site-packages\\ipykernel_launcher.py:13: SettingWithCopyWarning: \n",
      "A value is trying to be set on a copy of a slice from a DataFrame.\n",
      "Try using .loc[row_indexer,col_indexer] = value instead\n",
      "\n",
      "See the caveats in the documentation: http://pandas.pydata.org/pandas-docs/stable/indexing.html#indexing-view-versus-copy\n",
      "  del sys.path[0]\n",
      "C:\\ProgramData\\Anaconda3\\lib\\site-packages\\ipykernel_launcher.py:15: SettingWithCopyWarning: \n",
      "A value is trying to be set on a copy of a slice from a DataFrame\n",
      "\n",
      "See the caveats in the documentation: http://pandas.pydata.org/pandas-docs/stable/indexing.html#indexing-view-versus-copy\n",
      "  from ipykernel import kernelapp as app\n"
     ]
    }
   ],
   "source": [
    "train=trainset['train_0600000']\n",
    "test=testset['test_0600000']\n",
    "\n",
    "for i in ['clsPrclag1','highPrclag1','lowPrclag1','openPrclag1','clsPrc_lastdaylag1','difflag1','returnlag1',\n",
    "               'turnover_ratelag1','volumnlag1','turnover_valuelag1','total_market_valuelag1','current_market_valuelag1',\n",
    "               'clsPrclag5','highPrclag5','lowPrclag5','openPrclag5','clsPrc_lastdaylag5','difflag5', 'returnlag5', 'turnover_ratelag5',\n",
    "               'volumnlag5','turnover_valuelag5','total_market_valuelag5','current_market_valuelag5']:\n",
    "    \n",
    "    train[str(i)]=pd.to_numeric(train[str(i)].values,errors='coerce')\n",
    "    where_are_NaNs = np.isnan(train[str(i)])\n",
    "    train[str(i)][where_are_NaNs] = 0\n",
    "    \n",
    "    test[str(i)]=pd.to_numeric(test[str(i)].values,errors='coerce')\n",
    "    where_are_NaNs = np.isnan(test[str(i)])\n",
    "    test[str(i)][where_are_NaNs] = 0\n",
    "    \n",
    "X_train=train[['clsPrclag1','highPrclag1','lowPrclag1','openPrclag1','clsPrc_lastdaylag1','difflag1','returnlag1',\n",
    "               'turnover_ratelag1','volumnlag1','turnover_valuelag1','total_market_valuelag1','current_market_valuelag1',\n",
    "               'clsPrclag5','highPrclag5','lowPrclag5','openPrclag5','clsPrc_lastdaylag5','difflag5', 'returnlag5', 'turnover_ratelag5',\n",
    "               'volumnlag5','turnover_valuelag5','total_market_valuelag5','current_market_valuelag5']]\n",
    "y_train=pd.to_numeric(train['diff'].values,errors='coerce')\n",
    "\n",
    "X_test=test[['clsPrclag1','highPrclag1','lowPrclag1','openPrclag1','clsPrc_lastdaylag1','difflag1', 'returnlag1', \n",
    "            'turnover_ratelag1','volumnlag1','turnover_valuelag1','total_market_valuelag1','current_market_valuelag1',\n",
    "            'clsPrclag5','highPrclag5','lowPrclag5','openPrclag5','clsPrc_lastdaylag5','difflag5', 'returnlag5', 'turnover_ratelag5',\n",
    "            'volumnlag5','turnover_valuelag5','total_market_valuelag5','current_market_valuelag5']]\n",
    "y_test=pd.to_numeric(test['diff'].values,errors='coerce')\n",
    "\n",
    "where_are_NaNs1 = np.isnan(y_train)\n",
    "y_train[where_are_NaNs1] = 0\n",
    "where_are_NaNs2 = np.isnan(y_test)\n",
    "y_test[where_are_NaNs2] = 0\n",
    "y_train=(y_train>0)*1\n",
    "y_test=(y_test>0)*1"
   ]
  },
  {
   "cell_type": "code",
   "execution_count": 81,
   "metadata": {},
   "outputs": [
    {
     "data": {
      "text/plain": [
       "numpy.float64"
      ]
     },
     "execution_count": 81,
     "metadata": {},
     "output_type": "execute_result"
    }
   ],
   "source": [
    "type(y_test[0])"
   ]
  },
  {
   "cell_type": "code",
   "execution_count": 85,
   "metadata": {},
   "outputs": [
    {
     "data": {
      "text/plain": [
       "0.50068212824010916"
      ]
     },
     "execution_count": 85,
     "metadata": {},
     "output_type": "execute_result"
    }
   ],
   "source": [
    "# 1. import\n",
    "from sklearn.neural_network import MLPClassifier\n",
    "\n",
    "# 2. instantiate\n",
    "mlp = MLPClassifier()\n",
    "\n",
    "# 3. train\n",
    "mlp.fit(X_train, y_train)\n",
    "\n",
    "# 4. predict\n",
    "p = mlp.predict(X_test)\n",
    "\n",
    "# 5. evaluate\n",
    "from sklearn import metrics\n",
    "metrics.accuracy_score(p, y_test)"
   ]
  },
  {
   "cell_type": "code",
   "execution_count": null,
   "metadata": {
    "collapsed": true
   },
   "outputs": [],
   "source": []
  }
 ],
 "metadata": {
  "kernelspec": {
   "display_name": "Python 3",
   "language": "python",
   "name": "python3"
  },
  "language_info": {
   "codemirror_mode": {
    "name": "ipython",
    "version": 3
   },
   "file_extension": ".py",
   "mimetype": "text/x-python",
   "name": "python",
   "nbconvert_exporter": "python",
   "pygments_lexer": "ipython3",
   "version": "3.6.2"
  }
 },
 "nbformat": 4,
 "nbformat_minor": 2
}
