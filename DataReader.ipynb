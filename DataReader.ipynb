{
 "cells": [
  {
   "cell_type": "code",
   "execution_count": 2,
   "metadata": {
    "collapsed": true
   },
   "outputs": [],
   "source": [
    "import numpy as np\n",
    "import pandas as pd\n",
    "import os"
   ]
  },
  {
   "cell_type": "code",
   "execution_count": 57,
   "metadata": {},
   "outputs": [],
   "source": [
    "database={}\n",
    "for i in range(4000):\n",
    "    name=str('060')+str(i).zfill(4)\n",
    "    if os.path.isfile('e:/data/'+str(name)+'.csv'):\n",
    "        data=pd.read_csv('e:/data/'+str(name)+'.csv',encoding='gb2312')\n",
    "        data.columns=['date','code','name','clsPrc','highPrc','lowPrc','openPrc','clsPrc_lastday','diff',\n",
    "                      'return', 'turnover_rate','volumn','turnover_value','total_market_value','current_market_value','hh']\n",
    "        data=data.drop(['hh'],axis=1)\n",
    "        database.update({str(name):data})"
   ]
  },
  {
   "cell_type": "code",
   "execution_count": null,
   "metadata": {
    "collapsed": true
   },
   "outputs": [],
   "source": []
  }
 ],
 "metadata": {
  "kernelspec": {
   "display_name": "Python 3",
   "language": "python",
   "name": "python3"
  },
  "language_info": {
   "codemirror_mode": {
    "name": "ipython",
    "version": 3
   },
   "file_extension": ".py",
   "mimetype": "text/x-python",
   "name": "python",
   "nbconvert_exporter": "python",
   "pygments_lexer": "ipython3",
   "version": "3.6.2"
  }
 },
 "nbformat": 4,
 "nbformat_minor": 2
}
